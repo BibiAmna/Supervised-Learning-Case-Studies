{
 "cells": [
  {
   "cell_type": "code",
   "execution_count": 1,
   "id": "bc3f0657",
   "metadata": {
    "_cell_guid": "b1076dfc-b9ad-4769-8c92-a6c4dae69d19",
    "_uuid": "8f2839f25d086af736a60e9eeb907d3b93b6e0e5",
    "execution": {
     "iopub.execute_input": "2023-05-08T16:27:56.768137Z",
     "iopub.status.busy": "2023-05-08T16:27:56.767607Z",
     "iopub.status.idle": "2023-05-08T16:27:56.782790Z",
     "shell.execute_reply": "2023-05-08T16:27:56.781740Z"
    },
    "papermill": {
     "duration": 0.026223,
     "end_time": "2023-05-08T16:27:56.784990",
     "exception": false,
     "start_time": "2023-05-08T16:27:56.758767",
     "status": "completed"
    },
    "tags": []
   },
   "outputs": [
    {
     "name": "stdout",
     "output_type": "stream",
     "text": [
      "/kaggle/input/restaurant-populationvsprofit/restaurant_profits_data.csv\n"
     ]
    }
   ],
   "source": [
    "# This Python 3 environment comes with many helpful analytics libraries installed\n",
    "# It is defined by the kaggle/python Docker image: https://github.com/kaggle/docker-python\n",
    "# For example, here's several helpful packages to load\n",
    "\n",
    "import numpy as np # linear algebra\n",
    "import pandas as pd # data processing, CSV file I/O (e.g. pd.read_csv)\n",
    "\n",
    "# Input data files are available in the read-only \"../input/\" directory\n",
    "# For example, running this (by clicking run or pressing Shift+Enter) will list all files under the input directory\n",
    "\n",
    "import os\n",
    "for dirname, _, filenames in os.walk('/kaggle/input'):\n",
    "    for filename in filenames:\n",
    "        print(os.path.join(dirname, filename))\n",
    "\n",
    "# You can write up to 20GB to the current directory (/kaggle/working/) that gets preserved as output when you create a version using \"Save & Run All\" \n",
    "# You can also write temporary files to /kaggle/temp/, but they won't be saved outside of the current session"
   ]
  },
  {
   "cell_type": "markdown",
   "id": "17ad7490",
   "metadata": {
    "papermill": {
     "duration": 0.006571,
     "end_time": "2023-05-08T16:27:56.798463",
     "exception": false,
     "start_time": "2023-05-08T16:27:56.791892",
     "status": "completed"
    },
    "tags": []
   },
   "source": [
    "**Problem Statement**\n",
    "\n",
    "Suppose you are the CEO of a restaurant franchise and are considering different cities for opening a new outlet.\n",
    "\n",
    "* You would like to expand your business to cities that may give your restaurant higher profits.\n",
    "* The chain already has restaurants in various cities and you have data for profits and populations from the cities.\n",
    "* You also have data on cities that are candidates for a new restaurant.\n",
    " * For these cities, you have the city population.\n",
    "\n",
    "Can you use the data to help you identify which cities may potentially give your business higher profits?"
   ]
  },
  {
   "cell_type": "markdown",
   "id": "ddf3c67b",
   "metadata": {
    "papermill": {
     "duration": 0.006493,
     "end_time": "2023-05-08T16:27:56.811545",
     "exception": false,
     "start_time": "2023-05-08T16:27:56.805052",
     "status": "completed"
    },
    "tags": []
   },
   "source": [
    "**Goal**\n",
    "\n",
    "Our goal is to build a linear regression model to fit this data.\n",
    "\n",
    "With this model, we can then input a new city's population, and have the model estimate restaurant's potential monthly profits for that city."
   ]
  },
  {
   "cell_type": "code",
   "execution_count": 2,
   "id": "a7904f95",
   "metadata": {
    "execution": {
     "iopub.execute_input": "2023-05-08T16:27:56.826855Z",
     "iopub.status.busy": "2023-05-08T16:27:56.825881Z",
     "iopub.status.idle": "2023-05-08T16:27:56.830325Z",
     "shell.execute_reply": "2023-05-08T16:27:56.829666Z"
    },
    "papermill": {
     "duration": 0.013941,
     "end_time": "2023-05-08T16:27:56.832105",
     "exception": false,
     "start_time": "2023-05-08T16:27:56.818164",
     "status": "completed"
    },
    "tags": []
   },
   "outputs": [],
   "source": [
    "# Importing required Libraries\n",
    "import numpy as np\n",
    "import matplotlib.pyplot as plt\n",
    "import pandas as pd\n",
    "import copy\n",
    "import math"
   ]
  },
  {
   "cell_type": "markdown",
   "id": "eb05a5d3",
   "metadata": {
    "papermill": {
     "duration": 0.006233,
     "end_time": "2023-05-08T16:27:56.844962",
     "exception": false,
     "start_time": "2023-05-08T16:27:56.838729",
     "status": "completed"
    },
    "tags": []
   },
   "source": [
    "**Loading Data**"
   ]
  },
  {
   "cell_type": "code",
   "execution_count": 3,
   "id": "f2c308df",
   "metadata": {
    "execution": {
     "iopub.execute_input": "2023-05-08T16:27:56.860053Z",
     "iopub.status.busy": "2023-05-08T16:27:56.859442Z",
     "iopub.status.idle": "2023-05-08T16:27:56.896627Z",
     "shell.execute_reply": "2023-05-08T16:27:56.895589Z"
    },
    "papermill": {
     "duration": 0.047559,
     "end_time": "2023-05-08T16:27:56.899059",
     "exception": false,
     "start_time": "2023-05-08T16:27:56.851500",
     "status": "completed"
    },
    "tags": []
   },
   "outputs": [
    {
     "data": {
      "text/html": [
       "<div>\n",
       "<style scoped>\n",
       "    .dataframe tbody tr th:only-of-type {\n",
       "        vertical-align: middle;\n",
       "    }\n",
       "\n",
       "    .dataframe tbody tr th {\n",
       "        vertical-align: top;\n",
       "    }\n",
       "\n",
       "    .dataframe thead th {\n",
       "        text-align: right;\n",
       "    }\n",
       "</style>\n",
       "<table border=\"1\" class=\"dataframe\">\n",
       "  <thead>\n",
       "    <tr style=\"text-align: right;\">\n",
       "      <th></th>\n",
       "      <th>Population</th>\n",
       "      <th>Profit</th>\n",
       "    </tr>\n",
       "  </thead>\n",
       "  <tbody>\n",
       "    <tr>\n",
       "      <th>0</th>\n",
       "      <td>6.1101</td>\n",
       "      <td>17.5920</td>\n",
       "    </tr>\n",
       "    <tr>\n",
       "      <th>1</th>\n",
       "      <td>5.5277</td>\n",
       "      <td>9.1302</td>\n",
       "    </tr>\n",
       "    <tr>\n",
       "      <th>2</th>\n",
       "      <td>8.5186</td>\n",
       "      <td>13.6620</td>\n",
       "    </tr>\n",
       "    <tr>\n",
       "      <th>3</th>\n",
       "      <td>7.0032</td>\n",
       "      <td>11.8540</td>\n",
       "    </tr>\n",
       "    <tr>\n",
       "      <th>4</th>\n",
       "      <td>5.8598</td>\n",
       "      <td>6.8233</td>\n",
       "    </tr>\n",
       "  </tbody>\n",
       "</table>\n",
       "</div>"
      ],
      "text/plain": [
       "   Population   Profit\n",
       "0      6.1101  17.5920\n",
       "1      5.5277   9.1302\n",
       "2      8.5186  13.6620\n",
       "3      7.0032  11.8540\n",
       "4      5.8598   6.8233"
      ]
     },
     "execution_count": 3,
     "metadata": {},
     "output_type": "execute_result"
    }
   ],
   "source": [
    "# Loading data from csv file\n",
    "data = pd.read_csv('/kaggle/input/restaurant-populationvsprofit/restaurant_profits_data.csv')\n",
    "\n",
    "# diplaying top 5 rows\n",
    "data.head(5)"
   ]
  },
  {
   "cell_type": "code",
   "execution_count": 4,
   "id": "7a8210d5",
   "metadata": {
    "execution": {
     "iopub.execute_input": "2023-05-08T16:27:56.915104Z",
     "iopub.status.busy": "2023-05-08T16:27:56.914307Z",
     "iopub.status.idle": "2023-05-08T16:27:56.920621Z",
     "shell.execute_reply": "2023-05-08T16:27:56.919692Z"
    },
    "papermill": {
     "duration": 0.016497,
     "end_time": "2023-05-08T16:27:56.922637",
     "exception": false,
     "start_time": "2023-05-08T16:27:56.906140",
     "status": "completed"
    },
    "tags": []
   },
   "outputs": [
    {
     "data": {
      "text/plain": [
       "(98, 2)"
      ]
     },
     "execution_count": 4,
     "metadata": {},
     "output_type": "execute_result"
    }
   ],
   "source": [
    "# Shape of data\n",
    "data.shape"
   ]
  },
  {
   "cell_type": "code",
   "execution_count": 5,
   "id": "343357ff",
   "metadata": {
    "execution": {
     "iopub.execute_input": "2023-05-08T16:27:56.938638Z",
     "iopub.status.busy": "2023-05-08T16:27:56.937902Z",
     "iopub.status.idle": "2023-05-08T16:27:56.958445Z",
     "shell.execute_reply": "2023-05-08T16:27:56.957524Z"
    },
    "papermill": {
     "duration": 0.030934,
     "end_time": "2023-05-08T16:27:56.960566",
     "exception": false,
     "start_time": "2023-05-08T16:27:56.929632",
     "status": "completed"
    },
    "tags": []
   },
   "outputs": [
    {
     "data": {
      "text/html": [
       "<div>\n",
       "<style scoped>\n",
       "    .dataframe tbody tr th:only-of-type {\n",
       "        vertical-align: middle;\n",
       "    }\n",
       "\n",
       "    .dataframe tbody tr th {\n",
       "        vertical-align: top;\n",
       "    }\n",
       "\n",
       "    .dataframe thead th {\n",
       "        text-align: right;\n",
       "    }\n",
       "</style>\n",
       "<table border=\"1\" class=\"dataframe\">\n",
       "  <thead>\n",
       "    <tr style=\"text-align: right;\">\n",
       "      <th></th>\n",
       "      <th>Population</th>\n",
       "      <th>Profit</th>\n",
       "    </tr>\n",
       "  </thead>\n",
       "  <tbody>\n",
       "    <tr>\n",
       "      <th>count</th>\n",
       "      <td>98.000000</td>\n",
       "      <td>98.000000</td>\n",
       "    </tr>\n",
       "    <tr>\n",
       "      <th>mean</th>\n",
       "      <td>8.161173</td>\n",
       "      <td>5.781026</td>\n",
       "    </tr>\n",
       "    <tr>\n",
       "      <th>std</th>\n",
       "      <td>3.849908</td>\n",
       "      <td>5.511886</td>\n",
       "    </tr>\n",
       "    <tr>\n",
       "      <th>min</th>\n",
       "      <td>5.026900</td>\n",
       "      <td>-2.680700</td>\n",
       "    </tr>\n",
       "    <tr>\n",
       "      <th>25%</th>\n",
       "      <td>5.708450</td>\n",
       "      <td>1.883850</td>\n",
       "    </tr>\n",
       "    <tr>\n",
       "      <th>50%</th>\n",
       "      <td>6.735950</td>\n",
       "      <td>4.455300</td>\n",
       "    </tr>\n",
       "    <tr>\n",
       "      <th>75%</th>\n",
       "      <td>8.563225</td>\n",
       "      <td>6.990850</td>\n",
       "    </tr>\n",
       "    <tr>\n",
       "      <th>max</th>\n",
       "      <td>22.203000</td>\n",
       "      <td>24.147000</td>\n",
       "    </tr>\n",
       "  </tbody>\n",
       "</table>\n",
       "</div>"
      ],
      "text/plain": [
       "       Population     Profit\n",
       "count   98.000000  98.000000\n",
       "mean     8.161173   5.781026\n",
       "std      3.849908   5.511886\n",
       "min      5.026900  -2.680700\n",
       "25%      5.708450   1.883850\n",
       "50%      6.735950   4.455300\n",
       "75%      8.563225   6.990850\n",
       "max     22.203000  24.147000"
      ]
     },
     "execution_count": 5,
     "metadata": {},
     "output_type": "execute_result"
    }
   ],
   "source": [
    "data.describe()"
   ]
  },
  {
   "cell_type": "code",
   "execution_count": 6,
   "id": "77043878",
   "metadata": {
    "execution": {
     "iopub.execute_input": "2023-05-08T16:27:56.976727Z",
     "iopub.status.busy": "2023-05-08T16:27:56.976082Z",
     "iopub.status.idle": "2023-05-08T16:27:56.988004Z",
     "shell.execute_reply": "2023-05-08T16:27:56.986796Z"
    },
    "papermill": {
     "duration": 0.022477,
     "end_time": "2023-05-08T16:27:56.990135",
     "exception": false,
     "start_time": "2023-05-08T16:27:56.967658",
     "status": "completed"
    },
    "tags": []
   },
   "outputs": [
    {
     "name": "stdout",
     "output_type": "stream",
     "text": [
      "Missing Values in Data: \n",
      "Population    0\n",
      "Profit        0\n",
      "dtype: int64\n",
      "\n",
      "Duplicates in Data 0\n"
     ]
    }
   ],
   "source": [
    "# checking missing values and duplicates\n",
    "print(f'Missing Values in Data: \\n{data.isnull().sum()}')\n",
    "print(f'\\nDuplicates in Data {data.duplicated().sum()}')"
   ]
  },
  {
   "cell_type": "markdown",
   "id": "7c8196d7",
   "metadata": {
    "papermill": {
     "duration": 0.00719,
     "end_time": "2023-05-08T16:27:57.004716",
     "exception": false,
     "start_time": "2023-05-08T16:27:56.997526",
     "status": "completed"
    },
    "tags": []
   },
   "source": [
    "No missing values and duplicates found"
   ]
  },
  {
   "cell_type": "code",
   "execution_count": 7,
   "id": "1c15ac5e",
   "metadata": {
    "execution": {
     "iopub.execute_input": "2023-05-08T16:27:57.020984Z",
     "iopub.status.busy": "2023-05-08T16:27:57.020582Z",
     "iopub.status.idle": "2023-05-08T16:27:57.025507Z",
     "shell.execute_reply": "2023-05-08T16:27:57.024562Z"
    },
    "papermill": {
     "duration": 0.015413,
     "end_time": "2023-05-08T16:27:57.027438",
     "exception": false,
     "start_time": "2023-05-08T16:27:57.012025",
     "status": "completed"
    },
    "tags": []
   },
   "outputs": [],
   "source": [
    "# assign population to x_train and profits to y_train\n",
    "x_train = data['Population']\n",
    "y_train = data['Profit']"
   ]
  },
  {
   "cell_type": "markdown",
   "id": "d276d91f",
   "metadata": {
    "papermill": {
     "duration": 0.006991,
     "end_time": "2023-05-08T16:27:57.042155",
     "exception": false,
     "start_time": "2023-05-08T16:27:57.035164",
     "status": "completed"
    },
    "tags": []
   },
   "source": [
    "**View type and dimension of variables**"
   ]
  },
  {
   "cell_type": "code",
   "execution_count": 8,
   "id": "c064d3fb",
   "metadata": {
    "execution": {
     "iopub.execute_input": "2023-05-08T16:27:57.059223Z",
     "iopub.status.busy": "2023-05-08T16:27:57.057994Z",
     "iopub.status.idle": "2023-05-08T16:27:57.064792Z",
     "shell.execute_reply": "2023-05-08T16:27:57.063717Z"
    },
    "papermill": {
     "duration": 0.017957,
     "end_time": "2023-05-08T16:27:57.067231",
     "exception": false,
     "start_time": "2023-05-08T16:27:57.049274",
     "status": "completed"
    },
    "tags": []
   },
   "outputs": [
    {
     "name": "stdout",
     "output_type": "stream",
     "text": [
      "Type of x_train: <class 'pandas.core.series.Series'>\n",
      "\n",
      "Training Feature's Shape: (98,)\n",
      "\n",
      "Top 5 records: \n",
      "\n",
      "0    6.1101\n",
      "1    5.5277\n",
      "2    8.5186\n",
      "3    7.0032\n",
      "4    5.8598\n",
      "Name: Population, dtype: float64\n"
     ]
    }
   ],
   "source": [
    "print(\"Type of x_train:\",type(x_train))\n",
    "print(f\"\\nTraining Feature's Shape: {x_train.shape}\\n\")\n",
    "print(f'Top 5 records: \\n\\n{x_train[:5]}')"
   ]
  },
  {
   "cell_type": "code",
   "execution_count": 9,
   "id": "22b1839f",
   "metadata": {
    "execution": {
     "iopub.execute_input": "2023-05-08T16:27:57.083688Z",
     "iopub.status.busy": "2023-05-08T16:27:57.083295Z",
     "iopub.status.idle": "2023-05-08T16:27:57.089726Z",
     "shell.execute_reply": "2023-05-08T16:27:57.088451Z"
    },
    "papermill": {
     "duration": 0.01731,
     "end_time": "2023-05-08T16:27:57.091968",
     "exception": false,
     "start_time": "2023-05-08T16:27:57.074658",
     "status": "completed"
    },
    "tags": []
   },
   "outputs": [
    {
     "name": "stdout",
     "output_type": "stream",
     "text": [
      "Type of x_train: <class 'pandas.core.series.Series'>\n",
      "\n",
      "Labels' Shape: (98,)\n",
      "\n",
      "Top 5 labels: \n",
      "\n",
      "0    17.5920\n",
      "1     9.1302\n",
      "2    13.6620\n",
      "3    11.8540\n",
      "4     6.8233\n",
      "Name: Profit, dtype: float64\n"
     ]
    }
   ],
   "source": [
    "print(\"Type of x_train:\",type(y_train))\n",
    "print(f\"\\nLabels' Shape: {y_train.shape}\\n\")\n",
    "print(f'Top 5 labels: \\n\\n{y_train[:5]}')"
   ]
  },
  {
   "cell_type": "markdown",
   "id": "8976e2de",
   "metadata": {
    "papermill": {
     "duration": 0.007036,
     "end_time": "2023-05-08T16:27:57.106498",
     "exception": false,
     "start_time": "2023-05-08T16:27:57.099462",
     "status": "completed"
    },
    "tags": []
   },
   "source": [
    "**Data Visualization**"
   ]
  },
  {
   "cell_type": "code",
   "execution_count": 10,
   "id": "a9638a3d",
   "metadata": {
    "execution": {
     "iopub.execute_input": "2023-05-08T16:27:57.123075Z",
     "iopub.status.busy": "2023-05-08T16:27:57.122723Z",
     "iopub.status.idle": "2023-05-08T16:27:57.399493Z",
     "shell.execute_reply": "2023-05-08T16:27:57.398314Z"
    },
    "papermill": {
     "duration": 0.288,
     "end_time": "2023-05-08T16:27:57.401713",
     "exception": false,
     "start_time": "2023-05-08T16:27:57.113713",
     "status": "completed"
    },
    "tags": []
   },
   "outputs": [
    {
     "data": {
      "image/png": "[encoded data removed]",
      "text/plain": [
       "<Figure size 640x480 with 1 Axes>"
      ]
     },
     "metadata": {},
     "output_type": "display_data"
    }
   ],
   "source": [
    "# Creating a scatter plot of the data. \n",
    "plt.scatter(x_train, y_train, marker='o', c='#2ACAEA') \n",
    "\n",
    "# Set the title\n",
    "plt.title(\"Profits vs. Population per city\")\n",
    "# Set the y-axis label\n",
    "plt.ylabel('Profit in $10,000')\n",
    "# Set the x-axis label\n",
    "plt.xlabel('Population of City in 10,000s')\n",
    "plt.show()"
   ]
  },
  {
   "cell_type": "markdown",
   "id": "176455ec",
   "metadata": {
    "papermill": {
     "duration": 0.007698,
     "end_time": "2023-05-08T16:27:57.417505",
     "exception": false,
     "start_time": "2023-05-08T16:27:57.409807",
     "status": "completed"
    },
    "tags": []
   },
   "source": [
    "**Computing Cost** for Linear Regression for this data"
   ]
  },
  {
   "cell_type": "code",
   "execution_count": 11,
   "id": "f7f5826e",
   "metadata": {
    "execution": {
     "iopub.execute_input": "2023-05-08T16:27:57.435115Z",
     "iopub.status.busy": "2023-05-08T16:27:57.434749Z",
     "iopub.status.idle": "2023-05-08T16:27:57.441495Z",
     "shell.execute_reply": "2023-05-08T16:27:57.440467Z"
    },
    "papermill": {
     "duration": 0.018155,
     "end_time": "2023-05-08T16:27:57.443633",
     "exception": false,
     "start_time": "2023-05-08T16:27:57.425478",
     "status": "completed"
    },
    "tags": []
   },
   "outputs": [],
   "source": [
    "def compute_cost(x, y, w, b): \n",
    "    \"\"\"\n",
    "    Computes the cost function for linear regression.\n",
    "    \n",
    "    Args:\n",
    "        x (ndarray): Shape (m,) Input to the model (Population of cities) \n",
    "        y (ndarray): Shape (m,) Label (Actual profits for the cities)\n",
    "        w, b (scalar): Parameters of the model\n",
    "    \n",
    "    Returns\n",
    "        total_cost (float): The cost of using w,b as the parameters for linear regression\n",
    "               to fit the data points in x and y\n",
    "    \"\"\"\n",
    "    # number of training examples\n",
    "    m = x.shape[0] \n",
    "    \n",
    "    total_cost = 0\n",
    "    \n",
    "    for i in range(m):                                \n",
    "        f_wb_i = np.dot(x[i], w) + b           #(n,)(n,) = scalar (see np.dot)\n",
    "        total_cost = total_cost + (f_wb_i - y[i])**2       #scalar\n",
    "    total_cost = total_cost / (2 * m)                      #scalar    \n",
    "  \n",
    "    return total_cost"
   ]
  },
  {
   "cell_type": "code",
   "execution_count": 12,
   "id": "62af752a",
   "metadata": {
    "execution": {
     "iopub.execute_input": "2023-05-08T16:27:57.461965Z",
     "iopub.status.busy": "2023-05-08T16:27:57.461077Z",
     "iopub.status.idle": "2023-05-08T16:27:57.469401Z",
     "shell.execute_reply": "2023-05-08T16:27:57.468215Z"
    },
    "papermill": {
     "duration": 0.019745,
     "end_time": "2023-05-08T16:27:57.471494",
     "exception": false,
     "start_time": "2023-05-08T16:27:57.451749",
     "status": "completed"
    },
    "tags": []
   },
   "outputs": [
    {
     "name": "stdout",
     "output_type": "stream",
     "text": [
      "<class 'numpy.float64'>\n",
      "\n",
      "Cost at initial w: 75.989\n"
     ]
    }
   ],
   "source": [
    "# Compute cost with some initial values for paramaters w, b\n",
    "initial_w = 2\n",
    "initial_b = 1\n",
    "\n",
    "cost = compute_cost(x_train, y_train, initial_w, initial_b)\n",
    "print(type(cost))\n",
    "print(f'\\nCost at initial w: {cost:.3f}')"
   ]
  },
  {
   "cell_type": "markdown",
   "id": "b161d909",
   "metadata": {
    "papermill": {
     "duration": 0.007751,
     "end_time": "2023-05-08T16:27:57.487492",
     "exception": false,
     "start_time": "2023-05-08T16:27:57.479741",
     "status": "completed"
    },
    "tags": []
   },
   "source": [
    "**Compute Gradient Descent**"
   ]
  },
  {
   "cell_type": "code",
   "execution_count": 13,
   "id": "19bad1c1",
   "metadata": {
    "execution": {
     "iopub.execute_input": "2023-05-08T16:27:57.505618Z",
     "iopub.status.busy": "2023-05-08T16:27:57.504578Z",
     "iopub.status.idle": "2023-05-08T16:27:57.513267Z",
     "shell.execute_reply": "2023-05-08T16:27:57.512158Z"
    },
    "papermill": {
     "duration": 0.020143,
     "end_time": "2023-05-08T16:27:57.515622",
     "exception": false,
     "start_time": "2023-05-08T16:27:57.495479",
     "status": "completed"
    },
    "tags": []
   },
   "outputs": [],
   "source": [
    "def compute_gradient(x, y, w, b): \n",
    "    \"\"\"\n",
    "    Computes the gradient for linear regression \n",
    "    Args:\n",
    "      x (ndarray): Shape (m,) Input to the model (Population of cities) \n",
    "      y (ndarray): Shape (m,) Label (Actual profits for the cities)\n",
    "      w, b (scalar): Parameters of the model  \n",
    "    Returns\n",
    "      dj_dw (scalar): The gradient of the cost w.r.t. the parameters w\n",
    "      dj_db (scalar): The gradient of the cost w.r.t. the parameter b     \n",
    "     \"\"\"\n",
    "    \n",
    "    # Number of training examples\n",
    "    m = x.shape[0]\n",
    "    n = y.shape[0]\n",
    "    \n",
    "    dj_dw = 0\n",
    "    dj_db = 0\n",
    "\n",
    "    for i in range(m):                             \n",
    "      # to get prediction f_wb for the ith example\n",
    "        f_wb = np.dot(x[i], w) + b\n",
    "        \n",
    "        err = (np.dot(x[i], w) + b) - y[i] \n",
    "       # to get the gradient for w from the ith example \n",
    "        for j in range(n): \n",
    "            dj_dw_i = err * x[i] \n",
    "\n",
    "       # to get the gradient for b from the ith example \n",
    "        dj_db_i = err\n",
    "\n",
    "       # Update dj_db : In Python, a += 1  is the same as a = a + 1\n",
    "        dj_db += dj_db_i\n",
    "\n",
    "       # Update dj_dw\n",
    "        dj_dw += dj_dw_i    \n",
    "        \n",
    "    dj_dw = dj_dw / m                                \n",
    "    dj_db = dj_db / m\n",
    "        \n",
    "    return dj_dw, dj_db"
   ]
  },
  {
   "cell_type": "code",
   "execution_count": 14,
   "id": "9ff4691b",
   "metadata": {
    "execution": {
     "iopub.execute_input": "2023-05-08T16:27:57.537317Z",
     "iopub.status.busy": "2023-05-08T16:27:57.536730Z",
     "iopub.status.idle": "2023-05-08T16:27:57.591298Z",
     "shell.execute_reply": "2023-05-08T16:27:57.590205Z"
    },
    "papermill": {
     "duration": 0.069926,
     "end_time": "2023-05-08T16:27:57.593814",
     "exception": false,
     "start_time": "2023-05-08T16:27:57.523888",
     "status": "completed"
    },
    "tags": []
   },
   "outputs": [
    {
     "name": "stdout",
     "output_type": "stream",
     "text": [
      "Gradient at initial w, b (zeros): -64.67445375974492 -5.781025918367345\n"
     ]
    }
   ],
   "source": [
    "# Compute and display gradient with w initialized to zeroes\n",
    "initial_w = 0\n",
    "initial_b = 0\n",
    "\n",
    "tmp_dj_dw, tmp_dj_db = compute_gradient(x_train, y_train, initial_w, initial_b)\n",
    "print('Gradient at initial w, b (zeros):', tmp_dj_dw, tmp_dj_db)"
   ]
  },
  {
   "cell_type": "code",
   "execution_count": 15,
   "id": "267d0c64",
   "metadata": {
    "execution": {
     "iopub.execute_input": "2023-05-08T16:27:57.611609Z",
     "iopub.status.busy": "2023-05-08T16:27:57.611233Z",
     "iopub.status.idle": "2023-05-08T16:27:57.658248Z",
     "shell.execute_reply": "2023-05-08T16:27:57.656994Z"
    },
    "papermill": {
     "duration": 0.059072,
     "end_time": "2023-05-08T16:27:57.661033",
     "exception": false,
     "start_time": "2023-05-08T16:27:57.601961",
     "status": "completed"
    },
    "tags": []
   },
   "outputs": [
    {
     "name": "stdout",
     "output_type": "stream",
     "text": [
      "Gradient at test w, b: -46.78715881056124 -3.948791224489795\n"
     ]
    }
   ],
   "source": [
    "# Compute and display cost and gradient with non-zero w\n",
    "test_w = 0.2\n",
    "test_b = 0.2\n",
    "tmp_dj_dw, tmp_dj_db = compute_gradient(x_train, y_train, test_w, test_b)\n",
    "\n",
    "print('Gradient at test w, b:', tmp_dj_dw, tmp_dj_db)"
   ]
  },
  {
   "cell_type": "markdown",
   "id": "18dba73a",
   "metadata": {
    "papermill": {
     "duration": 0.007822,
     "end_time": "2023-05-08T16:27:57.677317",
     "exception": false,
     "start_time": "2023-05-08T16:27:57.669495",
     "status": "completed"
    },
    "tags": []
   },
   "source": [
    "**Learning parameters using batch gradient descent:**\n",
    "find the optimal parameters of a linear regression model by using batch gradient descent"
   ]
  },
  {
   "cell_type": "code",
   "execution_count": 16,
   "id": "585afbfd",
   "metadata": {
    "execution": {
     "iopub.execute_input": "2023-05-08T16:27:57.695240Z",
     "iopub.status.busy": "2023-05-08T16:27:57.694890Z",
     "iopub.status.idle": "2023-05-08T16:27:57.703189Z",
     "shell.execute_reply": "2023-05-08T16:27:57.702430Z"
    },
    "papermill": {
     "duration": 0.019713,
     "end_time": "2023-05-08T16:27:57.705068",
     "exception": false,
     "start_time": "2023-05-08T16:27:57.685355",
     "status": "completed"
    },
    "tags": []
   },
   "outputs": [],
   "source": [
    "def gradient_descent(x, y, w_in, b_in, cost_function, gradient_function, alpha, num_iters): \n",
    "    \"\"\"\n",
    "    Performs batch gradient descent to learn theta. Updates theta by taking \n",
    "    num_iters gradient steps with learning rate alpha\n",
    "    \n",
    "    Args:\n",
    "      x :    (ndarray): Shape (m,)\n",
    "      y :    (ndarray): Shape (m,)\n",
    "      w_in, b_in : (scalar) Initial values of parameters of the model\n",
    "      cost_function: function to compute cost\n",
    "      gradient_function: function to compute the gradient\n",
    "      alpha : (float) Learning rate\n",
    "      num_iters : (int) number of iterations to run gradient descent\n",
    "    Returns\n",
    "      w : (ndarray): Shape (1,) Updated values of parameters of the model after\n",
    "          running gradient descent\n",
    "      b : (scalar)                Updated value of parameter of the model after\n",
    "          running gradient descent\n",
    "    \"\"\"\n",
    "    \n",
    "    # number of training examples\n",
    "    m = len(x)\n",
    "    \n",
    "    # An array to store cost J and w's at each iteration — primarily for graphing later\n",
    "    J_history = []\n",
    "    w_history = []\n",
    "    w = copy.deepcopy(w_in)  #avoid modifying global w within function\n",
    "    b = b_in\n",
    "    \n",
    "    for i in range(num_iters):\n",
    "\n",
    "        # Calculate the gradient and update the parameters\n",
    "        dj_dw, dj_db = gradient_function(x, y, w, b )  \n",
    "\n",
    "        # Update Parameters using w, b, alpha and gradient\n",
    "        w = w - alpha * dj_dw               \n",
    "        b = b - alpha * dj_db               \n",
    "\n",
    "        # Save cost J at each iteration\n",
    "        if i<100000:      # prevent resource exhaustion \n",
    "            cost =  cost_function(x, y, w, b)\n",
    "            J_history.append(cost)\n",
    "\n",
    "        # Print cost every at intervals 10 times or as many iterations if < 10\n",
    "        if i% math.ceil(num_iters/10) == 0:\n",
    "            w_history.append(w)\n",
    "            print(f\"Iteration {i:4}: Cost {float(J_history[-1]):8.2f}   \")\n",
    "        \n",
    "    return w, b, J_history, w_history #return w and J,w history for graphing"
   ]
  },
  {
   "cell_type": "markdown",
   "id": "034466ad",
   "metadata": {
    "papermill": {
     "duration": 0.008072,
     "end_time": "2023-05-08T16:27:57.721254",
     "exception": false,
     "start_time": "2023-05-08T16:27:57.713182",
     "status": "completed"
    },
    "tags": []
   },
   "source": [
    "Now let's run the gradient descent algorithm above to learn the parameters for our dataset"
   ]
  },
  {
   "cell_type": "code",
   "execution_count": 17,
   "id": "fee1b0e0",
   "metadata": {
    "execution": {
     "iopub.execute_input": "2023-05-08T16:27:57.739592Z",
     "iopub.status.busy": "2023-05-08T16:27:57.739160Z",
     "iopub.status.idle": "2023-05-08T16:28:53.564101Z",
     "shell.execute_reply": "2023-05-08T16:28:53.563015Z"
    },
    "papermill": {
     "duration": 55.83675,
     "end_time": "2023-05-08T16:28:53.566308",
     "exception": false,
     "start_time": "2023-05-08T16:27:57.729558",
     "status": "completed"
    },
    "tags": []
   },
   "outputs": [
    {
     "name": "stdout",
     "output_type": "stream",
     "text": [
      "Iteration    0: Cost     6.89   \n",
      "Iteration  150: Cost     5.46   \n",
      "Iteration  300: Cost     5.10   \n",
      "Iteration  450: Cost     4.90   \n",
      "Iteration  600: Cost     4.78   \n",
      "Iteration  750: Cost     4.70   \n",
      "Iteration  900: Cost     4.66   \n",
      "Iteration 1050: Cost     4.64   \n",
      "Iteration 1200: Cost     4.62   \n",
      "Iteration 1350: Cost     4.62   \n",
      "w,b found by gradient descent: 1.1647624823368783 -3.675564926897907\n"
     ]
    }
   ],
   "source": [
    "# initialize fitting parameters. Recall that the shape of w is (n,)\n",
    "initial_w = 0.\n",
    "initial_b = 0.\n",
    "\n",
    "# some gradient descent settings\n",
    "iterations = 1500\n",
    "alpha = 0.01\n",
    "\n",
    "w,b,_,_ = gradient_descent(x_train ,y_train, initial_w, initial_b, \n",
    "                     compute_cost, compute_gradient, alpha, iterations)\n",
    "print(\"w,b found by gradient descent:\", w, b)"
   ]
  },
  {
   "cell_type": "markdown",
   "id": "51e5ed6b",
   "metadata": {
    "papermill": {
     "duration": 0.008467,
     "end_time": "2023-05-08T16:28:53.583949",
     "exception": false,
     "start_time": "2023-05-08T16:28:53.575482",
     "status": "completed"
    },
    "tags": []
   },
   "source": [
    "**Plot Linear Fit**\n",
    "\n",
    "We will now use the final parameters from gradient descent to plot the linear fit i.e w =  1.1647624823368783, b = -3.675564926897907"
   ]
  },
  {
   "cell_type": "code",
   "execution_count": 18,
   "id": "5f5f2a1e",
   "metadata": {
    "execution": {
     "iopub.execute_input": "2023-05-08T16:28:53.603140Z",
     "iopub.status.busy": "2023-05-08T16:28:53.602761Z",
     "iopub.status.idle": "2023-05-08T16:28:53.608041Z",
     "shell.execute_reply": "2023-05-08T16:28:53.607053Z"
    },
    "papermill": {
     "duration": 0.01735,
     "end_time": "2023-05-08T16:28:53.610054",
     "exception": false,
     "start_time": "2023-05-08T16:28:53.592704",
     "status": "completed"
    },
    "tags": []
   },
   "outputs": [],
   "source": [
    "m = x_train.shape[0]\n",
    "predicted = np.zeros(m)\n",
    "\n",
    "for i in range(m):\n",
    "    predicted[i] = w * x_train[i] + b"
   ]
  },
  {
   "cell_type": "code",
   "execution_count": 19,
   "id": "beb112a6",
   "metadata": {
    "execution": {
     "iopub.execute_input": "2023-05-08T16:28:53.629259Z",
     "iopub.status.busy": "2023-05-08T16:28:53.628892Z",
     "iopub.status.idle": "2023-05-08T16:28:53.912067Z",
     "shell.execute_reply": "2023-05-08T16:28:53.911247Z"
    },
    "papermill": {
     "duration": 0.294966,
     "end_time": "2023-05-08T16:28:53.913892",
     "exception": false,
     "start_time": "2023-05-08T16:28:53.618926",
     "status": "completed"
    },
    "tags": []
   },
   "outputs": [
    {
     "data": {
      "text/plain": [
       "Text(0.5, 0, 'Population of City in 10,000s')"
      ]
     },
     "execution_count": 19,
     "metadata": {},
     "output_type": "execute_result"
    },
    {
     "data": {
      "image/png": "[encoded data removed]",
      "text/plain": [
       "<Figure size 640x480 with 1 Axes>"
      ]
     },
     "metadata": {},
     "output_type": "display_data"
    }
   ],
   "source": [
    "# Plot the linear fit\n",
    "plt.plot(x_train, predicted, c = '#2551C6')\n",
    "\n",
    "# Create a scatter plot of the data. \n",
    "plt.scatter(x_train, y_train, marker='+', c='#2ACAEA') \n",
    "\n",
    "# Set the title\n",
    "plt.title(\"Profits vs. Population per city\")\n",
    "# Set the y-axis label\n",
    "plt.ylabel('Profit in $10,000')\n",
    "# Set the x-axis label\n",
    "plt.xlabel('Population of City in 10,000s')"
   ]
  },
  {
   "cell_type": "markdown",
   "id": "4490485a",
   "metadata": {
    "papermill": {
     "duration": 0.009261,
     "end_time": "2023-05-08T16:28:53.932569",
     "exception": false,
     "start_time": "2023-05-08T16:28:53.923308",
     "status": "completed"
    },
    "tags": []
   },
   "source": [
    "Let's predict what the profit would be in areas of 34,000 and 72,000 people.\n",
    "\n",
    "\n",
    "* The model takes in population of a city in 10,000s as input.\n",
    "\n",
    "* Therefore, 34,000 people can be translated into an input to the model as np.array([3.4])\n",
    "\n",
    "Similarly, 72,000 people can be translated into an input to the model as np.array([7.2])"
   ]
  },
  {
   "cell_type": "code",
   "execution_count": 20,
   "id": "5d777399",
   "metadata": {
    "execution": {
     "iopub.execute_input": "2023-05-08T16:28:53.952829Z",
     "iopub.status.busy": "2023-05-08T16:28:53.952436Z",
     "iopub.status.idle": "2023-05-08T16:28:53.958361Z",
     "shell.execute_reply": "2023-05-08T16:28:53.957304Z"
    },
    "papermill": {
     "duration": 0.018464,
     "end_time": "2023-05-08T16:28:53.960299",
     "exception": false,
     "start_time": "2023-05-08T16:28:53.941835",
     "status": "completed"
    },
    "tags": []
   },
   "outputs": [
    {
     "name": "stdout",
     "output_type": "stream",
     "text": [
      "For population = 34,000, we predict a profit of $2846.28\n",
      "For population = 72,000, we predict a profit of $47107.25\n"
     ]
    }
   ],
   "source": [
    "predict1 = 3.4 * w + b\n",
    "print('For population = 34,000, we predict a profit of $%.2f' % (predict1*10000))\n",
    "\n",
    "predict2 = 7.2 * w + b\n",
    "print('For population = 72,000, we predict a profit of $%.2f' % (predict2*10000))"
   ]
  }
 ],
 "metadata": {
  "kernelspec": {
   "display_name": "Python 3",
   "language": "python",
   "name": "python3"
  },
  "language_info": {
   "codemirror_mode": {
    "name": "ipython",
    "version": 3
   },
   "file_extension": ".py",
   "mimetype": "text/x-python",
   "name": "python",
   "nbconvert_exporter": "python",
   "pygments_lexer": "ipython3",
   "version": "3.10.10"
  },
  "papermill": {
   "default_parameters": {},
   "duration": 67.380728,
   "end_time": "2023-05-08T16:28:54.792138",
   "environment_variables": {},
   "exception": null,
   "input_path": "__notebook__.ipynb",
   "output_path": "__notebook__.ipynb",
   "parameters": {},
   "start_time": "2023-05-08T16:27:47.411410",
   "version": "2.4.0"
  }
 },
 "nbformat": 4,
 "nbformat_minor": 5
}
